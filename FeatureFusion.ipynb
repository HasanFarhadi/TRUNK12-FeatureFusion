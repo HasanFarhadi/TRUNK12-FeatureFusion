{
 "cells": [
  {
   "cell_type": "code",
   "execution_count": 39,
   "metadata": {},
   "outputs": [],
   "source": [
    "import os\n",
    "import tensorflow as tf\n",
    "import keras\n",
    "import numpy as np\n",
    "import pandas as pd\n",
    "import seaborn as sns\n",
    "import matplotlib.pyplot as plt\n",
    "import cv2 as cv\n",
    "from skimage.feature import local_binary_pattern\n",
    "from copy import deepcopy\n",
    "import random\n",
    "from sklearn.neighbors import KNeighborsClassifier\n",
    "import sklearn.metrics\n",
    "from keras.preprocessing.image import ImageDataGenerator\n",
    "from tensorflow.keras.utils import array_to_img, img_to_array, load_img\n",
    "\n",
    "from keras.models import Sequential, model_from_json\n",
    "from keras.layers import Dense, Dropout, Activation, Flatten, BatchNormalization\n",
    "from keras.layers import Conv2D, MaxPooling2D\n",
    "from keras.callbacks import EarlyStopping, ModelCheckpoint\n",
    "from sklearn.metrics import confusion_matrix\n",
    "from keras import backend as K\n",
    "from sklearn.model_selection import GridSearchCV\n",
    "from keras.metrics import Accuracy\n",
    "\n",
    "from keras.optimizers import SGD\n",
    "\n",
    "from sklearn.preprocessing import MinMaxScaler\n",
    "from sklearn.ensemble import RandomForestClassifier\n",
    "from sklearn.ensemble import StackingClassifier\n",
    "from sklearn.linear_model import LogisticRegression\n",
    "from sklearn.tree import DecisionTreeClassifier\n",
    "from sklearn import svm\n",
    "from sklearn.multiclass import OneVsRestClassifier\n",
    "from sklearn.svm import SVC\n",
    "from sklearn.manifold import TSNE\n",
    "from sklearn.metrics import pairwise_distances\n",
    "from scipy.stats import t, entropy\n",
    "from sklearn.manifold import _t_sne\n",
    "from sklearn.feature_selection import chi2\n",
    "from sklearn.feature_selection import SelectKBest\n",
    "from sklearn.metrics import confusion_matrix, ConfusionMatrixDisplay"
   ]
  },
  {
   "cell_type": "code",
   "execution_count": 40,
   "metadata": {},
   "outputs": [],
   "source": [
    "def accuracy(label, labelhat):\n",
    "    acc = sklearn.metrics.accuracy_score(label, labelhat) * 100\n",
    "\n",
    "    #print(f\"Accuracy : {acc}%\")\n",
    "    return acc"
   ]
  },
  {
   "cell_type": "code",
   "execution_count": 41,
   "metadata": {},
   "outputs": [],
   "source": [
    "def TRUNK():\n",
    "    train_datagen = ImageDataGenerator(validation_split=0.15)\n",
    "    test_datagen = ImageDataGenerator(validation_split=0.15)\n",
    "\n",
    "    train_data = train_datagen.flow_from_directory(\n",
    "        r'C:\\Users\\mhfar\\Desktop\\Trunk\\Data',\n",
    "        color_mode=\"rgb\",\n",
    "        batch_size=32,\n",
    "        class_mode='categorical',\n",
    "        target_size=(100, 100),\n",
    "        shuffle=False, \n",
    "        seed=42,\n",
    "        subset='training')\n",
    "\n",
    "    test_data = train_datagen.flow_from_directory(\n",
    "        r'C:\\Users\\mhfar\\Desktop\\Trunk\\Data',\n",
    "        color_mode=\"rgb\",\n",
    "        batch_size=32,\n",
    "        class_mode='categorical',\n",
    "        target_size=(100, 100),\n",
    "        shuffle=False, \n",
    "        seed=42,\n",
    "        subset='validation')\n",
    "\n",
    "    train_x=np.concatenate([train_data.next()[0] for i in range(train_data.__len__())])\n",
    "    train_y=np.concatenate([train_data.next()[1] for i in range(train_data.__len__())])\n",
    "\n",
    "    test_x=np.concatenate([test_data.next()[0] for i in range(test_data.__len__())])\n",
    "    test_y=np.concatenate([test_data.next()[1] for i in range(test_data.__len__())])\n",
    "\n",
    "    train_y = np.argmax(train_y, axis = 1)\n",
    "    test_y = np.argmax(test_y, axis = 1)\n",
    "\n",
    "    return train_x, train_y, test_x, test_y"
   ]
  },
  {
   "cell_type": "code",
   "execution_count": 42,
   "metadata": {},
   "outputs": [],
   "source": [
    "def NBest(data, label, Num):\n",
    "    \n",
    "    chi2selection = SelectKBest(chi2, k=Num)\n",
    "    newdata = chi2selection.fit_transform(data, label)\n",
    "    return newdata"
   ]
  },
  {
   "cell_type": "code",
   "execution_count": 43,
   "metadata": {},
   "outputs": [],
   "source": [
    "def GABOR_Features(img):\n",
    "    histograms = []\n",
    "    for theta in range(0, 4):\n",
    "        theta = deepcopy(theta/4. * np.pi)\n",
    "        for sigma in (2, 4):\n",
    "            for lambda_ in np.arange(np.pi / 4, np.pi, np.pi / 4.):\n",
    "                for gamma in (0.05, 0.5):\n",
    "                    kernel__ = cv.getGaborKernel((8, 8), sigma, theta, lambda_, gamma, 0, ktype=cv.CV_32F)\n",
    "                    filtered = cv.filter2D(img, ddepth=4, kernel= kernel__)\n",
    "                    hist = cv.calcHist([np.float32(filtered)],[0],None,[256],[0,256]).reshape(-1)\n",
    "                    histograms.append(hist)\n",
    "    return np.reshape(histograms, (-1))"
   ]
  },
  {
   "cell_type": "code",
   "execution_count": 44,
   "metadata": {},
   "outputs": [],
   "source": [
    "def LBP_Features(img):\n",
    "        lbp = local_binary_pattern(img, 16, 8)\n",
    "        his = np.histogram(lbp.ravel(), bins=200)\n",
    "        return np.reshape(his[0], (-1))"
   ]
  },
  {
   "cell_type": "code",
   "execution_count": 45,
   "metadata": {},
   "outputs": [],
   "source": [
    "def LBP_Gabor_Features(data, method):\n",
    "    featurematrix = []\n",
    "    for i in range(len(data)):\n",
    "        img = data[i]\n",
    "        lbp = LBP_Features(img)\n",
    "        gab = GABOR_Features(img)\n",
    "        if method == 'both':\n",
    "            features = np.append(lbp, gab, axis = 0)\n",
    "        elif method == 'lbp':\n",
    "            features = lbp\n",
    "        elif method == 'gabor':\n",
    "            features = gab\n",
    "        featurematrix.append(features)\n",
    "    return np.array(featurematrix)"
   ]
  },
  {
   "cell_type": "code",
   "execution_count": 46,
   "metadata": {},
   "outputs": [],
   "source": [
    "def LowFeatures(data, method = 'both'):\n",
    "    red_data = data[:, :, :, 0]\n",
    "    green_data = data[:, :, :, 1]\n",
    "    blue_data = data[:, :, :, 2]\n",
    "\n",
    "    red_features = LBP_Gabor_Features(red_data, method)\n",
    "    green_features = LBP_Gabor_Features(green_data, method)\n",
    "    blue_features = LBP_Gabor_Features(blue_data, method)\n",
    "    rgb_features = np.append(red_features, green_features, axis = 1)\n",
    "    rgb_features = np.append(rgb_features, blue_features, axis = 1)\n",
    "    return rgb_features"
   ]
  },
  {
   "cell_type": "code",
   "execution_count": 47,
   "metadata": {},
   "outputs": [],
   "source": [
    "def VGG():\n",
    "    json_file = open(r\"C:\\Users\\mhfar\\Desktop\\mmhw3\\model.json\")\n",
    "    model_json = json_file.read()\n",
    "    json_file.close()\n",
    "    model = model_from_json(model_json)\n",
    "    model.load_weights(r\"C:\\Users\\mhfar\\Desktop\\mmhw3\\model.h5\")\n",
    "    return model"
   ]
  },
  {
   "cell_type": "code",
   "execution_count": 48,
   "metadata": {},
   "outputs": [],
   "source": [
    "def CNN():\n",
    "    json_file = open(r\"C:\\Users\\mhfar\\Desktop\\cnnweights\\model.json\")\n",
    "    model_json = json_file.read()\n",
    "    json_file.close()\n",
    "    model = model_from_json(model_json)\n",
    "    model.load_weights(r\"C:\\Users\\mhfar\\Desktop\\cnnweights\\model_v1.h5\")\n",
    "    return model"
   ]
  },
  {
   "cell_type": "code",
   "execution_count": 49,
   "metadata": {},
   "outputs": [],
   "source": [
    "def CNNFeatures(cnn, data):\n",
    "    flatten_layer = K.function([cnn.layers[0].input],[cnn.layers[34].output])\n",
    "    high_features = []\n",
    "    for i in range(len(data)):\n",
    "        img = data[i]\n",
    "        img = np.reshape(img, (1, 100, 100, 3))\n",
    "        high_features.append(flatten_layer(img))\n",
    "    return np.squeeze(high_features)"
   ]
  },
  {
   "cell_type": "code",
   "execution_count": 50,
   "metadata": {},
   "outputs": [],
   "source": [
    "def VGGFeatures(cnn, data):\n",
    "    flatten_layer = K.function([cnn.layers[0].input],[cnn.layers[20].output])\n",
    "    high_features = []\n",
    "    for i in range(len(data)):\n",
    "        img = data[i]\n",
    "        img = np.reshape(img, (1, 100, 100, 3))\n",
    "        high_features.append(flatten_layer(img))\n",
    "    return np.squeeze(high_features)"
   ]
  },
  {
   "cell_type": "code",
   "execution_count": 51,
   "metadata": {},
   "outputs": [],
   "source": [
    "def KNN(train_x, train_y, test_x, test_y, neighbours, reduce_features=False, Num = 1000, knnweights = 'distance', showcm=False):\n",
    "    if (reduce_features):\n",
    "        train_x = NBest(train_x, train_y, Num)\n",
    "        test_x = NBest(test_x, test_y, Num)\n",
    "    clf = KNeighborsClassifier(n_neighbors = neighbours, weights=knnweights)\n",
    "    clf.fit(train_x, train_y)\n",
    "\n",
    "    yhat_train = clf.predict(train_x)\n",
    "    print(f\"train acc: {accuracy(yhat_train, train_y)}\")\n",
    "    yhat_test = clf.predict(test_x)\n",
    "    print(f\"test acc: {accuracy(yhat_test, test_y)}\")\n",
    "\n",
    "    if (showcm):\n",
    "\n",
    "        cm = confusion_matrix(test_y, yhat_test, labels=clf.classes_)\n",
    "        disp = ConfusionMatrixDisplay(confusion_matrix=cm,display_labels=clf.classes_)\n",
    "        disp.plot()\n",
    "        plt.show()\n"
   ]
  },
  {
   "cell_type": "code",
   "execution_count": 52,
   "metadata": {},
   "outputs": [
    {
     "name": "stdout",
     "output_type": "stream",
     "text": [
      "Found 341 images belonging to 12 classes.\n",
      "Found 52 images belonging to 12 classes.\n"
     ]
    }
   ],
   "source": [
    "train_x, train_y, test_x, test_y = TRUNK()"
   ]
  },
  {
   "cell_type": "code",
   "execution_count": 67,
   "metadata": {},
   "outputs": [],
   "source": [
    "train_x_Low = LowFeatures(train_x, method='lbp')\n",
    "test_x_Low = LowFeatures(test_x, method='lbp')\n"
   ]
  },
  {
   "cell_type": "code",
   "execution_count": 68,
   "metadata": {},
   "outputs": [
    {
     "name": "stdout",
     "output_type": "stream",
     "text": [
      "train acc: 100.0\n",
      "test acc: 61.53846153846154\n"
     ]
    },
    {
     "data": {
      "image/png": "[encoded data removed]",
      "text/plain": [
       "<Figure size 640x480 with 2 Axes>"
      ]
     },
     "metadata": {},
     "output_type": "display_data"
    }
   ],
   "source": [
    "KNN(train_x_Low, train_y, test_x_Low, test_y, neighbours=8, showcm=True)"
   ]
  },
  {
   "cell_type": "code",
   "execution_count": 55,
   "metadata": {},
   "outputs": [],
   "source": [
    "train_x_Low = LowFeatures(train_x, method='gabor')\n",
    "test_x_Low = LowFeatures(test_x, method='gabor')\n"
   ]
  },
  {
   "cell_type": "code",
   "execution_count": 56,
   "metadata": {},
   "outputs": [
    {
     "name": "stdout",
     "output_type": "stream",
     "text": [
      "train acc: 100.0\n",
      "test acc: 65.38461538461539\n"
     ]
    }
   ],
   "source": [
    "KNN(train_x_Low, train_y, test_x_Low, test_y, neighbours=8)"
   ]
  },
  {
   "cell_type": "code",
   "execution_count": 57,
   "metadata": {},
   "outputs": [],
   "source": [
    "train_x_Low = LowFeatures(train_x, method='both')\n",
    "test_x_Low = LowFeatures(test_x, method='both')\n"
   ]
  },
  {
   "cell_type": "code",
   "execution_count": 58,
   "metadata": {},
   "outputs": [
    {
     "name": "stdout",
     "output_type": "stream",
     "text": [
      "train acc: 100.0\n",
      "test acc: 75.0\n"
     ]
    }
   ],
   "source": [
    "KNN(train_x_Low, train_y, test_x_Low, test_y, neighbours=8)"
   ]
  },
  {
   "cell_type": "code",
   "execution_count": 59,
   "metadata": {},
   "outputs": [],
   "source": [
    "\n",
    "cnn = CNN()\n",
    "cnn.compile(loss='binary_crossentropy', optimizer='Adam', metrics=['accuracy'])\n",
    "\n",
    "train_x_High = CNNFeatures(cnn, train_x)\n",
    "test_x_High = CNNFeatures(cnn, test_x)\n"
   ]
  },
  {
   "cell_type": "code",
   "execution_count": 60,
   "metadata": {},
   "outputs": [
    {
     "data": {
      "text/plain": [
       "\"\\ncnn = VGG()\\ncnn.compile(loss='binary_crossentropy', optimizer='Adam', metrics=['accuracy'])\\n\\ntrain_x_High = VGGFeatures(cnn, train_x)\\ntest_x_High = VGGFeatures(cnn, test_x)\\n\""
      ]
     },
     "execution_count": 60,
     "metadata": {},
     "output_type": "execute_result"
    }
   ],
   "source": [
    "\"\"\"\n",
    "cnn = VGG()\n",
    "cnn.compile(loss='binary_crossentropy', optimizer='Adam', metrics=['accuracy'])\n",
    "\n",
    "train_x_High = VGGFeatures(cnn, train_x)\n",
    "test_x_High = VGGFeatures(cnn, test_x)\n",
    "\"\"\""
   ]
  },
  {
   "cell_type": "code",
   "execution_count": 65,
   "metadata": {},
   "outputs": [
    {
     "name": "stdout",
     "output_type": "stream",
     "text": [
      "train acc: 100.0\n",
      "test acc: 63.46153846153846\n"
     ]
    }
   ],
   "source": [
    "KNN(train_x_High, train_y, test_x_High, test_y, neighbours=8, reduce_features=False)"
   ]
  },
  {
   "cell_type": "code",
   "execution_count": 62,
   "metadata": {},
   "outputs": [],
   "source": [
    "train_x_HighLow = np.append(train_x_High, train_x_Low, axis = 1)\n",
    "test_x_HighLow = np.append(test_x_High, test_x_Low, axis = 1)"
   ]
  },
  {
   "cell_type": "code",
   "execution_count": 63,
   "metadata": {},
   "outputs": [
    {
     "name": "stdout",
     "output_type": "stream",
     "text": [
      "train acc: 100.0\n",
      "test acc: 75.0\n"
     ]
    },
    {
     "data": {
      "image/png": "[encoded data removed]",
      "text/plain": [
       "<Figure size 640x480 with 2 Axes>"
      ]
     },
     "metadata": {},
     "output_type": "display_data"
    }
   ],
   "source": [
    "KNN(train_x_HighLow, train_y, test_x_HighLow, test_y, neighbours=8, reduce_features=False, showcm=True)"
   ]
  }
 ],
 "metadata": {
  "kernelspec": {
   "display_name": "base",
   "language": "python",
   "name": "python3"
  },
  "language_info": {
   "codemirror_mode": {
    "name": "ipython",
    "version": 3
   },
   "file_extension": ".py",
   "mimetype": "text/x-python",
   "name": "python",
   "nbconvert_exporter": "python",
   "pygments_lexer": "ipython3",
   "version": "3.9.13"
  },
  "orig_nbformat": 4,
  "vscode": {
   "interpreter": {
    "hash": "dd25ad554e4370e30797bf0235702b2665ad6fb58503cae9a34ffdb2391647b9"
   }
  }
 },
 "nbformat": 4,
 "nbformat_minor": 2
}
