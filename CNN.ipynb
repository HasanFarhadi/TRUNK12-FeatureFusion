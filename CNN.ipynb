{
 "cells": [
  {
   "cell_type": "code",
   "execution_count": 2,
   "metadata": {},
   "outputs": [],
   "source": [
    "import os\n",
    "import tensorflow as tf\n",
    "import keras\n",
    "import numpy as np\n",
    "import matplotlib.pyplot as plt\n",
    "import cv2 as cv\n",
    "from skimage.feature import local_binary_pattern\n",
    "from copy import deepcopy\n",
    "import random\n",
    "from sklearn.neighbors import KNeighborsClassifier\n",
    "import sklearn.metrics\n",
    "from keras.preprocessing.image import ImageDataGenerator\n",
    "from tensorflow.keras.utils import array_to_img, img_to_array, load_img\n",
    "\n",
    "from keras.models import Sequential, model_from_json\n",
    "from keras.layers import Dense, Dropout, Activation, Flatten, BatchNormalization\n",
    "from keras.layers import Conv2D, MaxPooling2D\n",
    "from keras.callbacks import EarlyStopping, ModelCheckpoint\n",
    "#import pickle\n",
    "from sklearn.metrics import confusion_matrix\n",
    "from keras import backend as K\n",
    "from sklearn.svm import SVC\n",
    "from sklearn.model_selection import GridSearchCV\n",
    "from keras.metrics import Accuracy\n",
    "\n",
    "from keras.optimizers import SGD"
   ]
  },
  {
   "cell_type": "code",
   "execution_count": 4,
   "metadata": {},
   "outputs": [],
   "source": [
    "def imshow(image, label = \"\"):\n",
    "    plt.figure(figsize = (7, 7), dpi = 50)\n",
    "    plt.xlabel(label, fontsize= 30)\n",
    "    plt.imshow(image, cmap = 'gray')"
   ]
  },
  {
   "cell_type": "code",
   "execution_count": 5,
   "metadata": {},
   "outputs": [],
   "source": [
    "def Save_Model(model):\n",
    "    model_json = model.to_json()\n",
    "    with open(\"model.json\", \"w\") as json_file:\n",
    "        json_file.write(model_json)\n",
    "    model.save_weights(\"model.h5\")\n",
    "    print(\"Saved model to disk\")"
   ]
  },
  {
   "cell_type": "code",
   "execution_count": 6,
   "metadata": {},
   "outputs": [],
   "source": [
    "train_datagen = ImageDataGenerator(validation_split=0.15)\n",
    "test_datagen = ImageDataGenerator(validation_split=0.15)"
   ]
  },
  {
   "cell_type": "code",
   "execution_count": 7,
   "metadata": {},
   "outputs": [
    {
     "name": "stdout",
     "output_type": "stream",
     "text": [
      "Found 341 images belonging to 12 classes.\n",
      "Found 52 images belonging to 12 classes.\n"
     ]
    }
   ],
   "source": [
    "train_data = train_datagen.flow_from_directory(\n",
    "        r'./TRUNK12/',\n",
    "        color_mode=\"rgb\",\n",
    "        target_size=(100, 100),\n",
    "        batch_size=32,\n",
    "        class_mode='categorical',\n",
    "        shuffle=True,\n",
    "        subset = 'training')\n",
    "\n",
    "test_data = test_datagen.flow_from_directory(\n",
    "        r'./TRUNK12/',\n",
    "        color_mode=\"rgb\",\n",
    "        target_size=(100, 100),\n",
    "        batch_size=32,\n",
    "        class_mode='categorical',\n",
    "        shuffle=False,\n",
    "        subset = 'validation')"
   ]
  },
  {
   "cell_type": "code",
   "execution_count": 6,
   "metadata": {},
   "outputs": [
    {
     "data": {
      "text/plain": [
       "'\\nx=np.concatenate([test_data.next()[0] for i in range(test_data.__len__())])\\ny=np.concatenate([test_data.next()[1] for i in range(test_data.__len__())])\\n'"
      ]
     },
     "execution_count": 6,
     "metadata": {},
     "output_type": "execute_result"
    }
   ],
   "source": [
    "\"\"\"\n",
    "x=np.concatenate([test_data.next()[0] for i in range(test_data.__len__())])\n",
    "y=np.concatenate([test_data.next()[1] for i in range(test_data.__len__())])\n",
    "\"\"\""
   ]
  },
  {
   "cell_type": "code",
   "execution_count": 7,
   "metadata": {},
   "outputs": [],
   "source": [
    "#np.shape(x)"
   ]
  },
  {
   "cell_type": "code",
   "execution_count": 8,
   "metadata": {},
   "outputs": [],
   "source": [
    "num_classes = 12"
   ]
  },
  {
   "cell_type": "code",
   "execution_count": 9,
   "metadata": {},
   "outputs": [
    {
     "data": {
      "text/plain": [
       "[]"
      ]
     },
     "execution_count": 9,
     "metadata": {},
     "output_type": "execute_result"
    }
   ],
   "source": [
    "tf.config.list_physical_devices('GPU')"
   ]
  },
  {
   "cell_type": "code",
   "execution_count": 14,
   "metadata": {},
   "outputs": [],
   "source": [
    "featureLayer1=[Conv2D(64, (3, 3), padding='same',input_shape=(100, 100, 3)),\n",
    "               Activation('relu'),\n",
    "               BatchNormalization(),\n",
    "               Conv2D(64, (3, 3), padding='same'),\n",
    "               Activation('relu'),\n",
    "               BatchNormalization(),\n",
    "               MaxPooling2D(pool_size=(2, 2))]\n",
    "\n",
    "featureLayer2=[Conv2D(128, (3, 3), padding='same'),\n",
    "               Activation('relu'),\n",
    "               BatchNormalization(),\n",
    "               Conv2D(128, (3, 3), padding='same'),\n",
    "               Activation('relu'),\n",
    "               BatchNormalization(),\n",
    "               MaxPooling2D(pool_size=(2, 2))]\n",
    "\n",
    "featureLayer3=[Conv2D(256, (3, 3), padding='same'),\n",
    "               Activation('relu'),\n",
    "               BatchNormalization(),\n",
    "               Conv2D(256, (3, 3), padding='same'),\n",
    "               Activation('relu'),\n",
    "               BatchNormalization(),\n",
    "               Conv2D(256, (3, 3), padding='same'),\n",
    "               Activation('relu'),\n",
    "               BatchNormalization(),\n",
    "               MaxPooling2D(pool_size=(2, 2))]\n",
    "\n",
    "featureLayer4=[Conv2D(512, (3, 3), padding='same'),\n",
    "               Activation('relu'),\n",
    "               BatchNormalization(),\n",
    "               Conv2D(512, (3, 3), padding='same'),\n",
    "               Activation('relu'),\n",
    "               BatchNormalization(),\n",
    "               Conv2D(512, (3, 3), padding='same'),\n",
    "               Activation('relu'),\n",
    "               BatchNormalization(),\n",
    "               MaxPooling2D(pool_size=(2, 2))]\n",
    "\n",
    "\n",
    "fullConnLayer=[Flatten(),\n",
    "               Dense(1024),\n",
    "               Activation('relu'),\n",
    "               Dropout(0.5),\n",
    "               Dense(1024),\n",
    "               Activation('relu'),\n",
    "               Dropout(0.5)]\n",
    "\n",
    "classificationLayer=[Dense(num_classes),\n",
    "                     Activation('softmax')]\n",
    "\n",
    "model = Sequential(featureLayer1 + featureLayer2 + featureLayer3 + featureLayer4 + fullConnLayer + classificationLayer)"
   ]
  },
  {
   "cell_type": "code",
   "execution_count": 11,
   "metadata": {},
   "outputs": [
    {
     "name": "stdout",
     "output_type": "stream",
     "text": [
      "Model: \"sequential\"\n",
      "_________________________________________________________________\n",
      " Layer (type)                Output Shape              Param #   \n",
      "=================================================================\n",
      " conv2d (Conv2D)             (None, 100, 100, 64)      1792      \n",
      "                                                                 \n",
      " activation (Activation)     (None, 100, 100, 64)      0         \n",
      "                                                                 \n",
      " batch_normalization (BatchN  (None, 100, 100, 64)     256       \n",
      " ormalization)                                                   \n",
      "                                                                 \n",
      " conv2d_1 (Conv2D)           (None, 100, 100, 64)      36928     \n",
      "                                                                 \n",
      " activation_1 (Activation)   (None, 100, 100, 64)      0         \n",
      "                                                                 \n",
      " batch_normalization_1 (Batc  (None, 100, 100, 64)     256       \n",
      " hNormalization)                                                 \n",
      "                                                                 \n",
      " max_pooling2d (MaxPooling2D  (None, 50, 50, 64)       0         \n",
      " )                                                               \n",
      "                                                                 \n",
      " conv2d_2 (Conv2D)           (None, 50, 50, 128)       73856     \n",
      "                                                                 \n",
      " activation_2 (Activation)   (None, 50, 50, 128)       0         \n",
      "                                                                 \n",
      " batch_normalization_2 (Batc  (None, 50, 50, 128)      512       \n",
      " hNormalization)                                                 \n",
      "                                                                 \n",
      " conv2d_3 (Conv2D)           (None, 50, 50, 128)       147584    \n",
      "                                                                 \n",
      " activation_3 (Activation)   (None, 50, 50, 128)       0         \n",
      "                                                                 \n",
      " batch_normalization_3 (Batc  (None, 50, 50, 128)      512       \n",
      " hNormalization)                                                 \n",
      "                                                                 \n",
      " max_pooling2d_1 (MaxPooling  (None, 25, 25, 128)      0         \n",
      " 2D)                                                             \n",
      "                                                                 \n",
      " conv2d_4 (Conv2D)           (None, 25, 25, 256)       295168    \n",
      "                                                                 \n",
      " activation_4 (Activation)   (None, 25, 25, 256)       0         \n",
      "                                                                 \n",
      " batch_normalization_4 (Batc  (None, 25, 25, 256)      1024      \n",
      " hNormalization)                                                 \n",
      "                                                                 \n",
      " conv2d_5 (Conv2D)           (None, 25, 25, 256)       590080    \n",
      "                                                                 \n",
      " activation_5 (Activation)   (None, 25, 25, 256)       0         \n",
      "                                                                 \n",
      " batch_normalization_5 (Batc  (None, 25, 25, 256)      1024      \n",
      " hNormalization)                                                 \n",
      "                                                                 \n",
      " conv2d_6 (Conv2D)           (None, 25, 25, 256)       590080    \n",
      "                                                                 \n",
      " activation_6 (Activation)   (None, 25, 25, 256)       0         \n",
      "                                                                 \n",
      " batch_normalization_6 (Batc  (None, 25, 25, 256)      1024      \n",
      " hNormalization)                                                 \n",
      "                                                                 \n",
      " max_pooling2d_2 (MaxPooling  (None, 12, 12, 256)      0         \n",
      " 2D)                                                             \n",
      "                                                                 \n",
      " conv2d_7 (Conv2D)           (None, 12, 12, 512)       1180160   \n",
      "                                                                 \n",
      " activation_7 (Activation)   (None, 12, 12, 512)       0         \n",
      "                                                                 \n",
      " batch_normalization_7 (Batc  (None, 12, 12, 512)      2048      \n",
      " hNormalization)                                                 \n",
      "                                                                 \n",
      " conv2d_8 (Conv2D)           (None, 12, 12, 512)       2359808   \n",
      "                                                                 \n",
      " activation_8 (Activation)   (None, 12, 12, 512)       0         \n",
      "                                                                 \n",
      " batch_normalization_8 (Batc  (None, 12, 12, 512)      2048      \n",
      " hNormalization)                                                 \n",
      "                                                                 \n",
      " conv2d_9 (Conv2D)           (None, 12, 12, 512)       2359808   \n",
      "                                                                 \n",
      " activation_9 (Activation)   (None, 12, 12, 512)       0         \n",
      "                                                                 \n",
      " batch_normalization_9 (Batc  (None, 12, 12, 512)      2048      \n",
      " hNormalization)                                                 \n",
      "                                                                 \n",
      " max_pooling2d_3 (MaxPooling  (None, 6, 6, 512)        0         \n",
      " 2D)                                                             \n",
      "                                                                 \n",
      " flatten (Flatten)           (None, 18432)             0         \n",
      "                                                                 \n",
      " dense (Dense)               (None, 1024)              18875392  \n",
      "                                                                 \n",
      " activation_10 (Activation)  (None, 1024)              0         \n",
      "                                                                 \n",
      " dropout (Dropout)           (None, 1024)              0         \n",
      "                                                                 \n",
      " dense_1 (Dense)             (None, 1024)              1049600   \n",
      "                                                                 \n",
      " activation_11 (Activation)  (None, 1024)              0         \n",
      "                                                                 \n",
      " dropout_1 (Dropout)         (None, 1024)              0         \n",
      "                                                                 \n",
      " dense_2 (Dense)             (None, 12)                12300     \n",
      "                                                                 \n",
      " activation_12 (Activation)  (None, 12)                0         \n",
      "                                                                 \n",
      "=================================================================\n",
      "Total params: 27,583,308\n",
      "Trainable params: 27,577,932\n",
      "Non-trainable params: 5,376\n",
      "_________________________________________________________________\n"
     ]
    }
   ],
   "source": [
    "model.summary()"
   ]
  },
  {
   "cell_type": "code",
   "execution_count": 15,
   "metadata": {},
   "outputs": [],
   "source": [
    "\"\"\"\n",
    "opt = keras.optimizers.Adam(learning_rate=0.001,\n",
    "    beta_1=0.9,\n",
    "    beta_2=0.999,\n",
    "    epsilon=1e-07,)\n",
    "\"\"\"\n",
    "opt = SGD(learning_rate= 0.001)\n",
    "model.compile(loss='categorical_crossentropy',\n",
    "              optimizer=opt,\n",
    "              metrics=['accuracy'])\n"
   ]
  },
  {
   "cell_type": "code",
   "execution_count": 16,
   "metadata": {},
   "outputs": [],
   "source": [
    "epochs = 100\n",
    "es = EarlyStopping(monitor='val_accuracy',\n",
    "                    mode='max',\n",
    "                    patience=99,\n",
    "                    verbose=1,\n",
    "                    restore_best_weights=True,\n",
    "                    baseline= 1)"
   ]
  },
  {
   "cell_type": "code",
   "execution_count": 17,
   "metadata": {},
   "outputs": [
    {
     "name": "stdout",
     "output_type": "stream",
     "text": [
      "Epoch 1/100\n",
      "11/11 [==============================] - 59s 5s/step - loss: 4.3131 - accuracy: 0.1173 - val_loss: 2.5287 - val_accuracy: 0.0962\n",
      "Epoch 2/100\n",
      "11/11 [==============================] - 55s 5s/step - loss: 3.2198 - accuracy: 0.1789 - val_loss: 2.5770 - val_accuracy: 0.0962\n",
      "Epoch 3/100\n",
      "11/11 [==============================] - 52s 5s/step - loss: 2.7428 - accuracy: 0.2375 - val_loss: 2.5202 - val_accuracy: 0.0385\n",
      "Epoch 4/100\n",
      "11/11 [==============================] - 58s 5s/step - loss: 2.3741 - accuracy: 0.2698 - val_loss: 2.4716 - val_accuracy: 0.1346\n",
      "Epoch 5/100\n",
      "11/11 [==============================] - 58s 5s/step - loss: 2.0458 - accuracy: 0.4018 - val_loss: 2.5035 - val_accuracy: 0.1154\n",
      "Epoch 6/100\n",
      "11/11 [==============================] - 64s 6s/step - loss: 1.9821 - accuracy: 0.4135 - val_loss: 2.4470 - val_accuracy: 0.1346\n",
      "Epoch 7/100\n",
      "11/11 [==============================] - 64s 6s/step - loss: 1.7033 - accuracy: 0.4751 - val_loss: 2.4552 - val_accuracy: 0.1154\n",
      "Epoch 8/100\n",
      "11/11 [==============================] - 60s 5s/step - loss: 1.4074 - accuracy: 0.5220 - val_loss: 2.4543 - val_accuracy: 0.1154\n",
      "Epoch 9/100\n",
      "11/11 [==============================] - 59s 5s/step - loss: 1.3026 - accuracy: 0.5689 - val_loss: 2.4727 - val_accuracy: 0.1154\n",
      "Epoch 10/100\n",
      "11/11 [==============================] - 63s 6s/step - loss: 1.1296 - accuracy: 0.6100 - val_loss: 2.4785 - val_accuracy: 0.1154\n",
      "Epoch 11/100\n",
      "11/11 [==============================] - 60s 5s/step - loss: 1.0895 - accuracy: 0.6393 - val_loss: 2.4683 - val_accuracy: 0.1154\n",
      "Epoch 12/100\n",
      "11/11 [==============================] - 61s 6s/step - loss: 1.0931 - accuracy: 0.6305 - val_loss: 2.5910 - val_accuracy: 0.1154\n",
      "Epoch 13/100\n",
      "11/11 [==============================] - 62s 6s/step - loss: 0.9432 - accuracy: 0.6950 - val_loss: 2.5044 - val_accuracy: 0.1346\n",
      "Epoch 14/100\n",
      "11/11 [==============================] - 57s 5s/step - loss: 0.8211 - accuracy: 0.7507 - val_loss: 2.4984 - val_accuracy: 0.1346\n",
      "Epoch 15/100\n",
      "11/11 [==============================] - 59s 5s/step - loss: 0.7489 - accuracy: 0.7478 - val_loss: 2.6138 - val_accuracy: 0.1346\n",
      "Epoch 16/100\n",
      "11/11 [==============================] - 63s 6s/step - loss: 0.5851 - accuracy: 0.8358 - val_loss: 2.7459 - val_accuracy: 0.1346\n",
      "Epoch 17/100\n",
      "11/11 [==============================] - 55s 5s/step - loss: 0.5009 - accuracy: 0.8387 - val_loss: 2.3010 - val_accuracy: 0.1731\n",
      "Epoch 18/100\n",
      "11/11 [==============================] - 57s 5s/step - loss: 0.4677 - accuracy: 0.8358 - val_loss: 2.3090 - val_accuracy: 0.1731\n",
      "Epoch 19/100\n",
      "11/11 [==============================] - 55s 5s/step - loss: 0.4637 - accuracy: 0.8563 - val_loss: 1.9016 - val_accuracy: 0.3077\n",
      "Epoch 20/100\n",
      "11/11 [==============================] - 54s 5s/step - loss: 0.4561 - accuracy: 0.8446 - val_loss: 1.8892 - val_accuracy: 0.2500\n",
      "Epoch 21/100\n",
      "11/11 [==============================] - 54s 5s/step - loss: 0.3171 - accuracy: 0.9150 - val_loss: 1.9019 - val_accuracy: 0.2692\n",
      "Epoch 22/100\n",
      "11/11 [==============================] - 56s 5s/step - loss: 0.4134 - accuracy: 0.8710 - val_loss: 1.6912 - val_accuracy: 0.3846\n",
      "Epoch 23/100\n",
      "11/11 [==============================] - 57s 5s/step - loss: 0.2791 - accuracy: 0.9208 - val_loss: 1.8265 - val_accuracy: 0.3269\n",
      "Epoch 24/100\n",
      "11/11 [==============================] - 55s 5s/step - loss: 0.2649 - accuracy: 0.9208 - val_loss: 1.7266 - val_accuracy: 0.4423\n",
      "Epoch 25/100\n",
      "11/11 [==============================] - 54s 5s/step - loss: 0.3317 - accuracy: 0.8827 - val_loss: 1.8367 - val_accuracy: 0.4231\n",
      "Epoch 26/100\n",
      "11/11 [==============================] - 63s 6s/step - loss: 0.2222 - accuracy: 0.9413 - val_loss: 1.4051 - val_accuracy: 0.5385\n",
      "Epoch 27/100\n",
      "11/11 [==============================] - 60s 5s/step - loss: 0.2411 - accuracy: 0.9355 - val_loss: 1.0699 - val_accuracy: 0.6538\n",
      "Epoch 28/100\n",
      "11/11 [==============================] - 53s 5s/step - loss: 0.1923 - accuracy: 0.9413 - val_loss: 1.0683 - val_accuracy: 0.6346\n",
      "Epoch 29/100\n",
      "11/11 [==============================] - 53s 5s/step - loss: 0.1811 - accuracy: 0.9531 - val_loss: 0.9573 - val_accuracy: 0.7115\n",
      "Epoch 30/100\n",
      "11/11 [==============================] - 54s 5s/step - loss: 0.1836 - accuracy: 0.9531 - val_loss: 1.1722 - val_accuracy: 0.6731\n",
      "Epoch 31/100\n",
      "11/11 [==============================] - 54s 5s/step - loss: 0.1421 - accuracy: 0.9589 - val_loss: 0.9457 - val_accuracy: 0.6923\n",
      "Epoch 32/100\n",
      "11/11 [==============================] - 54s 5s/step - loss: 0.1487 - accuracy: 0.9648 - val_loss: 0.8467 - val_accuracy: 0.7115\n",
      "Epoch 33/100\n",
      "11/11 [==============================] - 54s 5s/step - loss: 0.1499 - accuracy: 0.9472 - val_loss: 0.9266 - val_accuracy: 0.6923\n",
      "Epoch 34/100\n",
      "11/11 [==============================] - 54s 5s/step - loss: 0.1082 - accuracy: 0.9824 - val_loss: 0.9674 - val_accuracy: 0.6923\n",
      "Epoch 35/100\n",
      "11/11 [==============================] - 54s 5s/step - loss: 0.1568 - accuracy: 0.9707 - val_loss: 0.8717 - val_accuracy: 0.7500\n",
      "Epoch 36/100\n",
      "11/11 [==============================] - 53s 5s/step - loss: 0.1388 - accuracy: 0.9765 - val_loss: 0.7829 - val_accuracy: 0.7308\n",
      "Epoch 37/100\n",
      "11/11 [==============================] - 54s 5s/step - loss: 0.1209 - accuracy: 0.9765 - val_loss: 0.7330 - val_accuracy: 0.7308\n",
      "Epoch 38/100\n",
      "11/11 [==============================] - 54s 5s/step - loss: 0.1282 - accuracy: 0.9795 - val_loss: 0.7385 - val_accuracy: 0.6731\n",
      "Epoch 39/100\n",
      "11/11 [==============================] - 57s 5s/step - loss: 0.0985 - accuracy: 0.9824 - val_loss: 0.6623 - val_accuracy: 0.7885\n",
      "Epoch 40/100\n",
      "11/11 [==============================] - 57s 5s/step - loss: 0.1407 - accuracy: 0.9560 - val_loss: 0.8187 - val_accuracy: 0.7308\n",
      "Epoch 41/100\n",
      "11/11 [==============================] - 53s 5s/step - loss: 0.1004 - accuracy: 0.9736 - val_loss: 0.8566 - val_accuracy: 0.7115\n",
      "Epoch 42/100\n",
      "11/11 [==============================] - 53s 5s/step - loss: 0.0978 - accuracy: 0.9795 - val_loss: 0.8386 - val_accuracy: 0.7500\n",
      "Epoch 43/100\n",
      "11/11 [==============================] - 53s 5s/step - loss: 0.1152 - accuracy: 0.9765 - val_loss: 0.7504 - val_accuracy: 0.7308\n",
      "Epoch 44/100\n",
      "11/11 [==============================] - 53s 5s/step - loss: 0.0909 - accuracy: 0.9824 - val_loss: 0.6574 - val_accuracy: 0.7692\n",
      "Epoch 45/100\n",
      "11/11 [==============================] - 53s 5s/step - loss: 0.0699 - accuracy: 0.9853 - val_loss: 0.6971 - val_accuracy: 0.7500\n",
      "Epoch 46/100\n",
      "11/11 [==============================] - 53s 5s/step - loss: 0.0789 - accuracy: 0.9795 - val_loss: 0.6651 - val_accuracy: 0.7308\n",
      "Epoch 47/100\n",
      "11/11 [==============================] - 57s 5s/step - loss: 0.0996 - accuracy: 0.9765 - val_loss: 0.5937 - val_accuracy: 0.7885\n",
      "Epoch 48/100\n",
      "11/11 [==============================] - 53s 5s/step - loss: 0.0843 - accuracy: 0.9824 - val_loss: 0.7420 - val_accuracy: 0.7115\n",
      "Epoch 49/100\n",
      "11/11 [==============================] - 62s 6s/step - loss: 0.0965 - accuracy: 0.9765 - val_loss: 0.6382 - val_accuracy: 0.7500\n",
      "Epoch 50/100\n",
      "11/11 [==============================] - 57s 5s/step - loss: 0.1007 - accuracy: 0.9765 - val_loss: 0.5901 - val_accuracy: 0.8077\n",
      "Epoch 51/100\n",
      "11/11 [==============================] - 59s 5s/step - loss: 0.0751 - accuracy: 0.9883 - val_loss: 0.6105 - val_accuracy: 0.7885\n",
      "Epoch 52/100\n",
      "11/11 [==============================] - 59s 5s/step - loss: 0.0633 - accuracy: 0.9824 - val_loss: 0.5761 - val_accuracy: 0.8077\n",
      "Epoch 53/100\n",
      "11/11 [==============================] - 54s 5s/step - loss: 0.0573 - accuracy: 0.9912 - val_loss: 0.5957 - val_accuracy: 0.7500\n",
      "Epoch 54/100\n",
      "11/11 [==============================] - 56s 5s/step - loss: 0.0721 - accuracy: 0.9853 - val_loss: 0.6439 - val_accuracy: 0.7500\n",
      "Epoch 55/100\n",
      "11/11 [==============================] - 62s 6s/step - loss: 0.0486 - accuracy: 0.9941 - val_loss: 0.5804 - val_accuracy: 0.8077\n",
      "Epoch 56/100\n",
      "11/11 [==============================] - 53s 5s/step - loss: 0.0658 - accuracy: 0.9824 - val_loss: 0.5842 - val_accuracy: 0.8269\n",
      "Epoch 57/100\n",
      "11/11 [==============================] - 54s 5s/step - loss: 0.0803 - accuracy: 0.9853 - val_loss: 0.5694 - val_accuracy: 0.8077\n",
      "Epoch 58/100\n",
      "11/11 [==============================] - 53s 5s/step - loss: 0.0663 - accuracy: 0.9824 - val_loss: 0.5717 - val_accuracy: 0.8077\n",
      "Epoch 59/100\n",
      "11/11 [==============================] - 53s 5s/step - loss: 0.0568 - accuracy: 0.9824 - val_loss: 0.5694 - val_accuracy: 0.7885\n",
      "Epoch 60/100\n",
      "11/11 [==============================] - 61s 6s/step - loss: 0.0626 - accuracy: 0.9853 - val_loss: 0.6166 - val_accuracy: 0.6923\n",
      "Epoch 61/100\n",
      "11/11 [==============================] - 68s 6s/step - loss: 0.0533 - accuracy: 0.9912 - val_loss: 0.5451 - val_accuracy: 0.7692\n",
      "Epoch 62/100\n",
      "11/11 [==============================] - 57s 5s/step - loss: 0.0482 - accuracy: 0.9912 - val_loss: 0.5811 - val_accuracy: 0.7308\n",
      "Epoch 63/100\n",
      "11/11 [==============================] - 53s 5s/step - loss: 0.0747 - accuracy: 0.9707 - val_loss: 0.6768 - val_accuracy: 0.6923\n",
      "Epoch 64/100\n",
      "11/11 [==============================] - 56s 5s/step - loss: 0.0327 - accuracy: 0.9971 - val_loss: 0.7206 - val_accuracy: 0.7115\n",
      "Epoch 65/100\n",
      "11/11 [==============================] - 55s 5s/step - loss: 0.0593 - accuracy: 0.9853 - val_loss: 0.6114 - val_accuracy: 0.7115\n",
      "Epoch 66/100\n",
      "11/11 [==============================] - 53s 5s/step - loss: 0.0751 - accuracy: 0.9824 - val_loss: 0.6600 - val_accuracy: 0.7500\n",
      "Epoch 67/100\n",
      "11/11 [==============================] - 53s 5s/step - loss: 0.0234 - accuracy: 1.0000 - val_loss: 0.6203 - val_accuracy: 0.7308\n",
      "Epoch 68/100\n",
      "11/11 [==============================] - 57s 5s/step - loss: 0.0351 - accuracy: 0.9971 - val_loss: 0.6641 - val_accuracy: 0.7115\n",
      "Epoch 69/100\n",
      "11/11 [==============================] - 53s 5s/step - loss: 0.0350 - accuracy: 0.9941 - val_loss: 0.5934 - val_accuracy: 0.7692\n",
      "Epoch 70/100\n",
      "11/11 [==============================] - 53s 5s/step - loss: 0.0656 - accuracy: 0.9795 - val_loss: 0.5991 - val_accuracy: 0.7692\n",
      "Epoch 71/100\n",
      "11/11 [==============================] - 53s 5s/step - loss: 0.0395 - accuracy: 1.0000 - val_loss: 0.5588 - val_accuracy: 0.7692\n",
      "Epoch 72/100\n",
      "11/11 [==============================] - 54s 5s/step - loss: 0.0558 - accuracy: 0.9795 - val_loss: 0.5751 - val_accuracy: 0.7500\n",
      "Epoch 73/100\n",
      "11/11 [==============================] - 54s 5s/step - loss: 0.0360 - accuracy: 0.9971 - val_loss: 0.6107 - val_accuracy: 0.7308\n",
      "Epoch 74/100\n",
      "11/11 [==============================] - 54s 5s/step - loss: 0.0386 - accuracy: 0.9883 - val_loss: 0.6141 - val_accuracy: 0.7308\n",
      "Epoch 75/100\n",
      "11/11 [==============================] - 54s 5s/step - loss: 0.0343 - accuracy: 0.9941 - val_loss: 0.5406 - val_accuracy: 0.7885\n",
      "Epoch 76/100\n",
      "11/11 [==============================] - 54s 5s/step - loss: 0.0345 - accuracy: 0.9912 - val_loss: 0.4943 - val_accuracy: 0.8462\n",
      "Epoch 77/100\n",
      "11/11 [==============================] - 54s 5s/step - loss: 0.0628 - accuracy: 0.9824 - val_loss: 0.6631 - val_accuracy: 0.7115\n",
      "Epoch 78/100\n",
      "11/11 [==============================] - 54s 5s/step - loss: 0.0327 - accuracy: 0.9941 - val_loss: 0.6562 - val_accuracy: 0.7500\n",
      "Epoch 79/100\n",
      "11/11 [==============================] - 54s 5s/step - loss: 0.0329 - accuracy: 0.9971 - val_loss: 0.5547 - val_accuracy: 0.8077\n",
      "Epoch 80/100\n",
      "11/11 [==============================] - 54s 5s/step - loss: 0.0349 - accuracy: 0.9971 - val_loss: 0.5863 - val_accuracy: 0.7885\n",
      "Epoch 81/100\n",
      "11/11 [==============================] - 54s 5s/step - loss: 0.0344 - accuracy: 0.9971 - val_loss: 0.5946 - val_accuracy: 0.7885\n",
      "Epoch 82/100\n",
      "11/11 [==============================] - 53s 5s/step - loss: 0.0255 - accuracy: 0.9971 - val_loss: 0.6543 - val_accuracy: 0.7500\n",
      "Epoch 83/100\n",
      "11/11 [==============================] - 54s 5s/step - loss: 0.0339 - accuracy: 0.9941 - val_loss: 0.6203 - val_accuracy: 0.7308\n",
      "Epoch 84/100\n",
      "11/11 [==============================] - 54s 5s/step - loss: 0.0278 - accuracy: 1.0000 - val_loss: 0.5609 - val_accuracy: 0.7885\n",
      "Epoch 85/100\n",
      "11/11 [==============================] - 53s 5s/step - loss: 0.0276 - accuracy: 0.9971 - val_loss: 0.5214 - val_accuracy: 0.7885\n",
      "Epoch 86/100\n",
      "11/11 [==============================] - 54s 5s/step - loss: 0.0356 - accuracy: 0.9941 - val_loss: 0.5490 - val_accuracy: 0.8077\n",
      "Epoch 87/100\n",
      "11/11 [==============================] - 54s 5s/step - loss: 0.0484 - accuracy: 0.9912 - val_loss: 0.5485 - val_accuracy: 0.8269\n",
      "Epoch 88/100\n",
      "11/11 [==============================] - 54s 5s/step - loss: 0.0248 - accuracy: 1.0000 - val_loss: 0.5352 - val_accuracy: 0.8269\n",
      "Epoch 89/100\n",
      "11/11 [==============================] - 54s 5s/step - loss: 0.0171 - accuracy: 1.0000 - val_loss: 0.5354 - val_accuracy: 0.8269\n",
      "Epoch 90/100\n",
      "11/11 [==============================] - 54s 5s/step - loss: 0.0287 - accuracy: 0.9883 - val_loss: 0.5244 - val_accuracy: 0.8077\n",
      "Epoch 91/100\n",
      "11/11 [==============================] - 54s 5s/step - loss: 0.0421 - accuracy: 0.9853 - val_loss: 0.5242 - val_accuracy: 0.8077\n",
      "Epoch 92/100\n",
      "11/11 [==============================] - 54s 5s/step - loss: 0.0227 - accuracy: 1.0000 - val_loss: 0.5245 - val_accuracy: 0.8077\n",
      "Epoch 93/100\n",
      "11/11 [==============================] - 54s 5s/step - loss: 0.0195 - accuracy: 1.0000 - val_loss: 0.5154 - val_accuracy: 0.8269\n",
      "Epoch 94/100\n",
      "11/11 [==============================] - 54s 5s/step - loss: 0.0273 - accuracy: 0.9941 - val_loss: 0.5451 - val_accuracy: 0.8077\n",
      "Epoch 95/100\n",
      "11/11 [==============================] - 54s 5s/step - loss: 0.0365 - accuracy: 0.9883 - val_loss: 0.5853 - val_accuracy: 0.7885\n",
      "Epoch 96/100\n",
      "11/11 [==============================] - 54s 5s/step - loss: 0.0346 - accuracy: 0.9912 - val_loss: 0.5565 - val_accuracy: 0.7692\n",
      "Epoch 97/100\n",
      "11/11 [==============================] - 53s 5s/step - loss: 0.0232 - accuracy: 0.9971 - val_loss: 0.5328 - val_accuracy: 0.7885\n",
      "Epoch 98/100\n",
      "11/11 [==============================] - 54s 5s/step - loss: 0.0232 - accuracy: 0.9912 - val_loss: 0.5253 - val_accuracy: 0.8077\n",
      "Epoch 99/100\n",
      "11/11 [==============================] - ETA: 0s - loss: 0.0217 - accuracy: 0.9971Restoring model weights from the end of the best epoch: 76.\n",
      "11/11 [==============================] - 54s 5s/step - loss: 0.0217 - accuracy: 0.9971 - val_loss: 0.5183 - val_accuracy: 0.8077\n",
      "Epoch 99: early stopping\n"
     ]
    }
   ],
   "source": [
    "history = model.fit(train_data,\n",
    "                    batch_size= 32,\n",
    "                    epochs=epochs,\n",
    "                    verbose=1,\n",
    "                    validation_data=test_data,\n",
    "                    callbacks=[es],\n",
    "                    shuffle=False)\n"
   ]
  },
  {
   "cell_type": "code",
   "execution_count": 18,
   "metadata": {},
   "outputs": [
    {
     "name": "stdout",
     "output_type": "stream",
     "text": [
      "Saved model to disk\n"
     ]
    }
   ],
   "source": [
    "Save_Model(model)"
   ]
  },
  {
   "cell_type": "code",
   "execution_count": 19,
   "metadata": {},
   "outputs": [
    {
     "name": "stdout",
     "output_type": "stream",
     "text": [
      "11/11 - 32s - loss: 8.2097e-04 - accuracy: 1.0000 - 32s/epoch - 3s/step\n"
     ]
    },
    {
     "data": {
      "text/plain": [
       "[0.0008209681836888194, 1.0]"
      ]
     },
     "execution_count": 19,
     "metadata": {},
     "output_type": "execute_result"
    }
   ],
   "source": [
    "model.evaluate(train_data, verbose=2)"
   ]
  },
  {
   "cell_type": "code",
   "execution_count": 20,
   "metadata": {},
   "outputs": [
    {
     "name": "stdout",
     "output_type": "stream",
     "text": [
      "2/2 - 5s - loss: 0.4943 - accuracy: 0.8462 - 5s/epoch - 2s/step\n"
     ]
    },
    {
     "data": {
      "text/plain": [
       "[0.4942842721939087, 0.8461538553237915]"
      ]
     },
     "execution_count": 20,
     "metadata": {},
     "output_type": "execute_result"
    }
   ],
   "source": [
    "model.evaluate(test_data, verbose=2)"
   ]
  },
  {
   "cell_type": "code",
   "execution_count": 21,
   "metadata": {},
   "outputs": [],
   "source": [
    "model.save('model_v1.h5')"
   ]
  },
  {
   "cell_type": "code",
   "execution_count": null,
   "metadata": {},
   "outputs": [],
   "source": []
  }
 ],
 "metadata": {
  "kernelspec": {
   "display_name": "base",
   "language": "python",
   "name": "python3"
  },
  "language_info": {
   "codemirror_mode": {
    "name": "ipython",
    "version": 3
   },
   "file_extension": ".py",
   "mimetype": "text/x-python",
   "name": "python",
   "nbconvert_exporter": "python",
   "pygments_lexer": "ipython3",
   "version": "3.9.13"
  },
  "orig_nbformat": 4,
  "vscode": {
   "interpreter": {
    "hash": "dd25ad554e4370e30797bf0235702b2665ad6fb58503cae9a34ffdb2391647b9"
   }
  }
 },
 "nbformat": 4,
 "nbformat_minor": 2
}
