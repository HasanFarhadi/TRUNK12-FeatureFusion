{
 "cells": [
  {
   "cell_type": "code",
   "execution_count": 86,
   "metadata": {},
   "outputs": [],
   "source": [
    "import tensorflow as tf\n",
    "import keras\n",
    "from keras import backend as K\n",
    "from keras.layers.core import Dense, Activation\n",
    "from keras.optimizers import Adam\n",
    "from keras.metrics import categorical_crossentropy\n",
    "from keras.preprocessing.image import ImageDataGenerator\n",
    "from keras.preprocessing import image\n",
    "from keras.models import Model\n",
    "from keras.applications import imagenet_utils\n",
    "from keras.layers import Dense,GlobalAveragePooling2D,Flatten, Dropout\n",
    "from keras.applications import MobileNet,MobileNetV2,VGG16\n",
    "from keras.applications.mobilenet import preprocess_input\n",
    "from keras.callbacks import EarlyStopping, ModelCheckpoint\n",
    "import numpy as np\n",
    "from IPython.display import Image\n",
    "from keras.optimizers import Adam\n",
    "import numpy as np\n",
    "import matplotlib.pyplot as plt"
   ]
  },
  {
   "cell_type": "code",
   "execution_count": 87,
   "metadata": {},
   "outputs": [
    {
     "data": {
      "text/plain": [
       "[PhysicalDevice(name='/physical_device:GPU:0', device_type='GPU')]"
      ]
     },
     "execution_count": 87,
     "metadata": {},
     "output_type": "execute_result"
    }
   ],
   "source": [
    "tf.config.list_physical_devices('GPU')"
   ]
  },
  {
   "cell_type": "code",
   "execution_count": 88,
   "metadata": {},
   "outputs": [],
   "source": [
    "def Save_Model(model):\n",
    "    model_json = model.to_json()\n",
    "    with open(\"model.json\", \"w\") as json_file:\n",
    "        json_file.write(model_json)\n",
    "    model.save_weights(\"model.h5\")\n",
    "    print(\"Saved model to disk\")"
   ]
  },
  {
   "cell_type": "code",
   "execution_count": 89,
   "metadata": {},
   "outputs": [],
   "source": [
    "base_model = VGG16(include_top=False,weights='imagenet') \n",
    "base_model.trainable = False\n",
    "x=base_model.output\n",
    "x=GlobalAveragePooling2D()(x)\n",
    "x = Flatten()(x)\n",
    "x=Dense(1024,activation='relu')(x)\n",
    "#x = Dropout(0.2)(x)\n",
    "#x=Dense(1024,activation='relu')(x)\n",
    "#x = Dropout(0.2)(x)\n",
    "preds=Dense(12,activation='softmax')(x) "
   ]
  },
  {
   "cell_type": "code",
   "execution_count": 90,
   "metadata": {},
   "outputs": [],
   "source": [
    "model=Model(inputs=base_model.input,outputs=preds)"
   ]
  },
  {
   "cell_type": "code",
   "execution_count": 91,
   "metadata": {},
   "outputs": [
    {
     "name": "stdout",
     "output_type": "stream",
     "text": [
      "Model: \"model_10\"\n",
      "_________________________________________________________________\n",
      " Layer (type)                Output Shape              Param #   \n",
      "=================================================================\n",
      " input_20 (InputLayer)       [(None, None, None, 3)]   0         \n",
      "                                                                 \n",
      " block1_conv1 (Conv2D)       (None, None, None, 64)    1792      \n",
      "                                                                 \n",
      " block1_conv2 (Conv2D)       (None, None, None, 64)    36928     \n",
      "                                                                 \n",
      " block1_pool (MaxPooling2D)  (None, None, None, 64)    0         \n",
      "                                                                 \n",
      " block2_conv1 (Conv2D)       (None, None, None, 128)   73856     \n",
      "                                                                 \n",
      " block2_conv2 (Conv2D)       (None, None, None, 128)   147584    \n",
      "                                                                 \n",
      " block2_pool (MaxPooling2D)  (None, None, None, 128)   0         \n",
      "                                                                 \n",
      " block3_conv1 (Conv2D)       (None, None, None, 256)   295168    \n",
      "                                                                 \n",
      " block3_conv2 (Conv2D)       (None, None, None, 256)   590080    \n",
      "                                                                 \n",
      " block3_conv3 (Conv2D)       (None, None, None, 256)   590080    \n",
      "                                                                 \n",
      " block3_pool (MaxPooling2D)  (None, None, None, 256)   0         \n",
      "                                                                 \n",
      " block4_conv1 (Conv2D)       (None, None, None, 512)   1180160   \n",
      "                                                                 \n",
      " block4_conv2 (Conv2D)       (None, None, None, 512)   2359808   \n",
      "                                                                 \n",
      " block4_conv3 (Conv2D)       (None, None, None, 512)   2359808   \n",
      "                                                                 \n",
      " block4_pool (MaxPooling2D)  (None, None, None, 512)   0         \n",
      "                                                                 \n",
      " block5_conv1 (Conv2D)       (None, None, None, 512)   2359808   \n",
      "                                                                 \n",
      " block5_conv2 (Conv2D)       (None, None, None, 512)   2359808   \n",
      "                                                                 \n",
      " block5_conv3 (Conv2D)       (None, None, None, 512)   2359808   \n",
      "                                                                 \n",
      " block5_pool (MaxPooling2D)  (None, None, None, 512)   0         \n",
      "                                                                 \n",
      " global_average_pooling2d_18  (None, 512)              0         \n",
      "  (GlobalAveragePooling2D)                                       \n",
      "                                                                 \n",
      " flatten_17 (Flatten)        (None, 512)               0         \n",
      "                                                                 \n",
      " dense_41 (Dense)            (None, 1024)              525312    \n",
      "                                                                 \n",
      " dense_42 (Dense)            (None, 12)                12300     \n",
      "                                                                 \n",
      "=================================================================\n",
      "Total params: 15,252,300\n",
      "Trainable params: 537,612\n",
      "Non-trainable params: 14,714,688\n",
      "_________________________________________________________________\n"
     ]
    }
   ],
   "source": [
    "model.summary()"
   ]
  },
  {
   "cell_type": "code",
   "execution_count": 92,
   "metadata": {},
   "outputs": [
    {
     "name": "stdout",
     "output_type": "stream",
     "text": [
      "0 input_20\n",
      "1 block1_conv1\n",
      "2 block1_conv2\n",
      "3 block1_pool\n",
      "4 block2_conv1\n",
      "5 block2_conv2\n",
      "6 block2_pool\n",
      "7 block3_conv1\n",
      "8 block3_conv2\n",
      "9 block3_conv3\n",
      "10 block3_pool\n",
      "11 block4_conv1\n",
      "12 block4_conv2\n",
      "13 block4_conv3\n",
      "14 block4_pool\n",
      "15 block5_conv1\n",
      "16 block5_conv2\n",
      "17 block5_conv3\n",
      "18 block5_pool\n",
      "19 global_average_pooling2d_18\n",
      "20 flatten_17\n",
      "21 dense_41\n",
      "22 dense_42\n"
     ]
    }
   ],
   "source": [
    "\n",
    "for i,layer in enumerate(model.layers):\n",
    "  print(i,layer.name)\n"
   ]
  },
  {
   "cell_type": "code",
   "execution_count": 93,
   "metadata": {},
   "outputs": [
    {
     "name": "stdout",
     "output_type": "stream",
     "text": [
      "Found 341 images belonging to 12 classes.\n",
      "Found 52 images belonging to 12 classes.\n"
     ]
    }
   ],
   "source": [
    "train_datagen=ImageDataGenerator(preprocessing_function=preprocess_input,validation_split=0.15) \n",
    "test_datagen=ImageDataGenerator(preprocessing_function=preprocess_input,validation_split=0.15) \n",
    "\n",
    "train_generator = train_datagen.flow_from_directory(\n",
    "        r'C:\\Users\\mhfar\\Desktop\\Trunk\\Data',\n",
    "        color_mode=\"rgb\",\n",
    "         target_size=(224,224),\n",
    "        batch_size=32,\n",
    "        class_mode='categorical',\n",
    "        shuffle=False,\n",
    "        seed=42,\n",
    "        subset = 'training')\n",
    "\n",
    "test_data = test_datagen.flow_from_directory(\n",
    "        r'C:\\Users\\mhfar\\Desktop\\Trunk\\Data',\n",
    "        color_mode=\"rgb\",\n",
    "         target_size=(224,224),\n",
    "        batch_size=32,\n",
    "        class_mode='categorical',\n",
    "        seed=42,\n",
    "        shuffle=False,\n",
    "        subset = 'validation')"
   ]
  },
  {
   "cell_type": "code",
   "execution_count": 94,
   "metadata": {},
   "outputs": [
    {
     "name": "stdout",
     "output_type": "stream",
     "text": [
      "Epoch 1/30\n",
      "10/10 [==============================] - 54s 5s/step - loss: 3.3907 - accuracy: 0.0000e+00 - val_loss: 2.4477 - val_accuracy: 0.1154\n",
      "Epoch 2/30\n",
      "10/10 [==============================] - 49s 5s/step - loss: 2.6598 - accuracy: 0.1068 - val_loss: 2.2306 - val_accuracy: 0.4423\n",
      "Epoch 3/30\n",
      "10/10 [==============================] - 47s 5s/step - loss: 2.2394 - accuracy: 0.3236 - val_loss: 1.9527 - val_accuracy: 0.3269\n",
      "Epoch 4/30\n",
      "10/10 [==============================] - 48s 5s/step - loss: 2.0748 - accuracy: 0.3139 - val_loss: 1.7502 - val_accuracy: 0.5192\n",
      "Epoch 5/30\n",
      "10/10 [==============================] - 48s 5s/step - loss: 1.7873 - accuracy: 0.4207 - val_loss: 1.4799 - val_accuracy: 0.7115\n",
      "Epoch 6/30\n",
      "10/10 [==============================] - 50s 5s/step - loss: 1.5922 - accuracy: 0.5437 - val_loss: 1.3476 - val_accuracy: 0.6923\n",
      "Epoch 7/30\n",
      "10/10 [==============================] - 50s 5s/step - loss: 1.3252 - accuracy: 0.6699 - val_loss: 1.2121 - val_accuracy: 0.7692\n",
      "Epoch 8/30\n",
      "10/10 [==============================] - 50s 5s/step - loss: 1.2395 - accuracy: 0.7443 - val_loss: 1.1086 - val_accuracy: 0.7500\n",
      "Epoch 9/30\n",
      "10/10 [==============================] - 49s 5s/step - loss: 1.1123 - accuracy: 0.6570 - val_loss: 1.0086 - val_accuracy: 0.7500\n",
      "Epoch 10/30\n",
      "10/10 [==============================] - 50s 5s/step - loss: 1.0077 - accuracy: 0.7282 - val_loss: 0.9650 - val_accuracy: 0.7500\n",
      "Epoch 11/30\n",
      "10/10 [==============================] - 51s 5s/step - loss: 0.8714 - accuracy: 0.8317 - val_loss: 0.8586 - val_accuracy: 0.8462\n",
      "Epoch 12/30\n",
      "10/10 [==============================] - 50s 5s/step - loss: 0.9674 - accuracy: 0.7152 - val_loss: 0.8009 - val_accuracy: 0.8269\n",
      "Epoch 13/30\n",
      "10/10 [==============================] - 50s 5s/step - loss: 0.8602 - accuracy: 0.7573 - val_loss: 0.7824 - val_accuracy: 0.7500\n",
      "Epoch 14/30\n",
      "10/10 [==============================] - 49s 5s/step - loss: 0.8477 - accuracy: 0.7152 - val_loss: 0.6985 - val_accuracy: 0.8846\n",
      "Epoch 15/30\n",
      "10/10 [==============================] - 48s 5s/step - loss: 0.7624 - accuracy: 0.8382 - val_loss: 0.6817 - val_accuracy: 0.8462\n",
      "Epoch 16/30\n",
      "10/10 [==============================] - 49s 5s/step - loss: 0.7225 - accuracy: 0.8188 - val_loss: 0.6227 - val_accuracy: 0.8654\n",
      "Epoch 17/30\n",
      "10/10 [==============================] - 51s 5s/step - loss: 0.6437 - accuracy: 0.8608 - val_loss: 0.6415 - val_accuracy: 0.8462\n",
      "Epoch 18/30\n",
      "10/10 [==============================] - 52s 5s/step - loss: 0.6424 - accuracy: 0.8406 - val_loss: 0.5897 - val_accuracy: 0.8846\n",
      "Epoch 19/30\n",
      "10/10 [==============================] - 50s 5s/step - loss: 0.5715 - accuracy: 0.9029 - val_loss: 0.5435 - val_accuracy: 0.9038\n",
      "Epoch 20/30\n",
      "10/10 [==============================] - 49s 5s/step - loss: 0.4864 - accuracy: 0.9029 - val_loss: 0.5750 - val_accuracy: 0.8269\n",
      "Epoch 21/30\n",
      "10/10 [==============================] - 50s 5s/step - loss: 0.5819 - accuracy: 0.8479 - val_loss: 0.4981 - val_accuracy: 0.8846\n",
      "Epoch 22/30\n",
      "10/10 [==============================] - 49s 5s/step - loss: 0.4659 - accuracy: 0.9126 - val_loss: 0.5165 - val_accuracy: 0.8654\n",
      "Epoch 23/30\n",
      "10/10 [==============================] - 49s 5s/step - loss: 0.4981 - accuracy: 0.8900 - val_loss: 0.4426 - val_accuracy: 0.8846\n",
      "Epoch 24/30\n",
      "10/10 [==============================] - 49s 5s/step - loss: 0.5862 - accuracy: 0.7961 - val_loss: 0.5081 - val_accuracy: 0.8269\n",
      "Epoch 25/30\n",
      "10/10 [==============================] - 50s 5s/step - loss: 0.3530 - accuracy: 0.9450 - val_loss: 0.4714 - val_accuracy: 0.8846\n",
      "Epoch 26/30\n",
      "10/10 [==============================] - 50s 5s/step - loss: 0.4702 - accuracy: 0.8770 - val_loss: 0.4605 - val_accuracy: 0.8846\n",
      "Epoch 27/30\n",
      "10/10 [==============================] - 49s 5s/step - loss: 0.4864 - accuracy: 0.8803 - val_loss: 0.4106 - val_accuracy: 0.8654\n",
      "Epoch 28/30\n",
      "10/10 [==============================] - 49s 5s/step - loss: 0.3348 - accuracy: 0.9385 - val_loss: 0.3846 - val_accuracy: 0.9038\n",
      "Epoch 29/30\n",
      "10/10 [==============================] - 49s 5s/step - loss: 0.3604 - accuracy: 0.9159 - val_loss: 0.3856 - val_accuracy: 0.9231\n",
      "Epoch 30/30\n",
      "10/10 [==============================] - 49s 5s/step - loss: 0.3314 - accuracy: 0.9353 - val_loss: 0.3669 - val_accuracy: 0.9038\n"
     ]
    },
    {
     "data": {
      "text/plain": [
       "<keras.callbacks.History at 0x28d2880feb0>"
      ]
     },
     "execution_count": 94,
     "metadata": {},
     "output_type": "execute_result"
    }
   ],
   "source": [
    "\n",
    "es = EarlyStopping(monitor='val_accuracy',\n",
    "                    mode='max',\n",
    "                    patience=99,\n",
    "                    verbose=1,\n",
    "                    restore_best_weights=True,\n",
    "                    baseline= 1)\n",
    "\n",
    "\n",
    "opt = keras.optimizers.Adam(learning_rate=0.001,\n",
    "    beta_1=0.9,\n",
    "    beta_2=0.999,\n",
    "    epsilon=1e-07,)\n",
    "\n",
    "#opt = SGD(learning_rate= 0.001)\n",
    "\n",
    "model.compile(optimizer=opt ,loss='categorical_crossentropy',metrics=['accuracy'])\n",
    "\n",
    "step_size_train=train_generator.n//train_generator.batch_size\n",
    "model.fit(train_generator,\n",
    "                validation_data=test_data,\n",
    "                callbacks=[es],\n",
    "                verbose=1,\n",
    "                steps_per_epoch=step_size_train,\n",
    "                epochs=30)"
   ]
  },
  {
   "cell_type": "code",
   "execution_count": 95,
   "metadata": {},
   "outputs": [
    {
     "name": "stdout",
     "output_type": "stream",
     "text": [
      "11/11 - 45s - loss: 0.3036 - accuracy: 0.9384 - 45s/epoch - 4s/step\n"
     ]
    },
    {
     "data": {
      "text/plain": [
       "[0.30363309383392334, 0.9384164214134216]"
      ]
     },
     "execution_count": 95,
     "metadata": {},
     "output_type": "execute_result"
    }
   ],
   "source": [
    "model.evaluate(train_generator, verbose=2)"
   ]
  },
  {
   "cell_type": "code",
   "execution_count": 96,
   "metadata": {},
   "outputs": [
    {
     "name": "stdout",
     "output_type": "stream",
     "text": [
      "2/2 - 7s - loss: 0.3669 - accuracy: 0.9038 - 7s/epoch - 4s/step\n"
     ]
    },
    {
     "data": {
      "text/plain": [
       "[0.36693185567855835, 0.9038461446762085]"
      ]
     },
     "execution_count": 96,
     "metadata": {},
     "output_type": "execute_result"
    }
   ],
   "source": [
    "model.evaluate(test_data, verbose=2)"
   ]
  },
  {
   "cell_type": "code",
   "execution_count": 97,
   "metadata": {},
   "outputs": [
    {
     "name": "stdout",
     "output_type": "stream",
     "text": [
      "Saved model to disk\n"
     ]
    }
   ],
   "source": [
    "Save_Model(model)"
   ]
  }
 ],
 "metadata": {
  "kernelspec": {
   "display_name": "base",
   "language": "python",
   "name": "python3"
  },
  "language_info": {
   "codemirror_mode": {
    "name": "ipython",
    "version": 3
   },
   "file_extension": ".py",
   "mimetype": "text/x-python",
   "name": "python",
   "nbconvert_exporter": "python",
   "pygments_lexer": "ipython3",
   "version": "3.9.13"
  },
  "orig_nbformat": 4,
  "vscode": {
   "interpreter": {
    "hash": "dd25ad554e4370e30797bf0235702b2665ad6fb58503cae9a34ffdb2391647b9"
   }
  }
 },
 "nbformat": 4,
 "nbformat_minor": 2
}
